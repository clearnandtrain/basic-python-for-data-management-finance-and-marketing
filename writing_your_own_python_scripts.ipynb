{
  "nbformat": 4,
  "nbformat_minor": 0,
  "metadata": {
    "colab": {
      "name": "writing your own python scripts.ipynb",
      "provenance": [],
      "authorship_tag": "ABX9TyONXKzRMbVjOH7CFad55m/H",
      "include_colab_link": true
    },
    "kernelspec": {
      "name": "python3",
      "display_name": "Python 3"
    },
    "language_info": {
      "name": "python"
    }
  },
  "cells": [
    {
      "cell_type": "markdown",
      "metadata": {
        "id": "view-in-github",
        "colab_type": "text"
      },
      "source": [
        "<a href=\"https://colab.research.google.com/github/clearnandtrain/basic-python-for-data-management-finance-and-marketing/blob/main/writing_your_own_python_scripts.ipynb\" target=\"_parent\"><img src=\"https://colab.research.google.com/assets/colab-badge.svg\" alt=\"Open In Colab\"/></a>"
      ]
    },
    {
      "cell_type": "markdown",
      "metadata": {
        "id": "usFWAtLkMaKk"
      },
      "source": [
        "#Writing Your Own Python Scripts\n",
        "\n",
        "Here we take a look at essential control flow statements and will learning how to structure a program. We will learn how to use `for` and `while` loops and compose custom functions. We will also get familiar with decisive Python data structure -- dictionary.\n",
        "\n",
        "The exercises we demonstrate how to manipulate data with Python. A very necessary skill."
      ]
    },
    {
      "cell_type": "markdown",
      "metadata": {
        "id": "zg__EkIYVrU6"
      },
      "source": [
        "## Definite Loops\n",
        "\n",
        "A definite loop or a `for` loop is an essential part of any programming language. Use a `for` loop to interate over a list. You would iterate as many times as many elements in the sequence."
      ]
    },
    {
      "cell_type": "code",
      "metadata": {
        "id": "ATcoWUHcMjyI",
        "outputId": "a4219db3-c65b-4dac-ca79-18ab14a71b78",
        "colab": {
          "base_uri": "https://localhost:8080/"
        }
      },
      "source": [
        "friends = [\"Cheryl\", \"Darnetta\", \"John\", \"Tina\", \"Hosea\"]\n",
        "\n",
        "print(f'I have {len(friends)} friends')\n",
        "\n",
        "for name in friends:                # for variable in sequence\n",
        "  print(\"Happy Holidays,\", name)    # do something to variable len(friends) times"
      ],
      "execution_count": 7,
      "outputs": [
        {
          "output_type": "stream",
          "name": "stdout",
          "text": [
            "I have 5 friends\n",
            "Happy Holidays, Cheryl\n",
            "Happy Holidays, Darnetta\n",
            "Happy Holidays, John\n",
            "Happy Holidays, Tina\n",
            "Happy Holidays, Hosea\n"
          ]
        }
      ]
    },
    {
      "cell_type": "markdown",
      "metadata": {
        "id": "hVgBEzY9ajvO"
      },
      "source": [
        "Most of the time, you will need to combine a `for` loop and `if`, `elif`, or `else`. Extending our example, we can say that if \"Tina\" is in the list, print the \"Please give me a call\" message. To check each value in the list whether it is \"Tina\", the if statement has to be in the scope of the `for` loop."
      ]
    },
    {
      "cell_type": "code",
      "metadata": {
        "id": "jT9YyAhZbTDD",
        "outputId": "59f14acc-d189-43ed-99fc-4bd76be9717d",
        "colab": {
          "base_uri": "https://localhost:8080/"
        }
      },
      "source": [
        "friends = [\"Cheryl\", \"Darnetta\", \"John\", \"Tina\", \"Hosea\"]\n",
        "\n",
        "for name in friends:\n",
        "  print(\"Happy Holidays\", name)\n",
        "  if name == \"Tina\":\n",
        "    print(\"Please give me a call, \", name)"
      ],
      "execution_count": 8,
      "outputs": [
        {
          "output_type": "stream",
          "name": "stdout",
          "text": [
            "Happy Holidays Cheryl\n",
            "Happy Holidays Darnetta\n",
            "Happy Holidays John\n",
            "Happy Holidays Tina\n",
            "Please give me a call,  Tina\n",
            "Happy Holidays Hosea\n"
          ]
        }
      ]
    },
    {
      "cell_type": "markdown",
      "metadata": {
        "id": "a3turjn-l3TJ"
      },
      "source": [
        "Another example using `for` and `if`."
      ]
    },
    {
      "cell_type": "code",
      "metadata": {
        "id": "Uhqzv7k2mUVt",
        "outputId": "c4599c67-589c-4715-f2f0-d6f07d026da1",
        "colab": {
          "base_uri": "https://localhost:8080/"
        }
      },
      "source": [
        "alist = [1, 5, 2, 5, 3, 5, 4, 5, 6, 5, 7]\n",
        "blist = []\n",
        "\n",
        "for number in alist:\n",
        "  if number == 5:         # filtering alist for number == 5\n",
        "    blist.append(number)  # adding all 5's to blist\n",
        "\n",
        "blist"
      ],
      "execution_count": 11,
      "outputs": [
        {
          "output_type": "execute_result",
          "data": {
            "text/plain": [
              "[5, 5, 5, 5, 5]"
            ]
          },
          "metadata": {},
          "execution_count": 11
        }
      ]
    },
    {
      "cell_type": "markdown",
      "metadata": {
        "id": "EgXO-iuPnBcQ"
      },
      "source": [
        "##The Range Function\n",
        "\n",
        "The range function is one of the built-in functions. It generates a sequence of numbers. To use it, we need to specify a start integer (at which to start a sequence0, a stop integer (where to stop), and as step integer (a specific interval). A stop integer is the only required parameter for the function. Do not confuse the `range()` function with a slice notation."
      ]
    },
    {
      "cell_type": "code",
      "metadata": {
        "id": "0z8ZhIvAnuIl"
      },
      "source": [
        ""
      ],
      "execution_count": null,
      "outputs": []
    }
  ]
}