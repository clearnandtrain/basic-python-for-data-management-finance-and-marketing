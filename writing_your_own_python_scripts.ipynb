{
  "nbformat": 4,
  "nbformat_minor": 0,
  "metadata": {
    "colab": {
      "name": "writing your own python scripts.ipynb",
      "provenance": [],
      "authorship_tag": "ABX9TyOyhXCiLlvjuph7IcPP+8Dy",
      "include_colab_link": true
    },
    "kernelspec": {
      "name": "python3",
      "display_name": "Python 3"
    },
    "language_info": {
      "name": "python"
    }
  },
  "cells": [
    {
      "cell_type": "markdown",
      "metadata": {
        "id": "view-in-github",
        "colab_type": "text"
      },
      "source": [
        "<a href=\"https://colab.research.google.com/github/clearnandtrain/basic-python-for-data-management-finance-and-marketing/blob/main/writing_your_own_python_scripts.ipynb\" target=\"_parent\"><img src=\"https://colab.research.google.com/assets/colab-badge.svg\" alt=\"Open In Colab\"/></a>"
      ]
    },
    {
      "cell_type": "markdown",
      "metadata": {
        "id": "usFWAtLkMaKk"
      },
      "source": [
        "#Writing Your Own Python Scripts\n",
        "\n",
        "Here we take a look at essential control flow statements and will learning how to structure a program. We will learn how to use `for` and `while` loops and compose custom functions. We will also get familiar with decisive Python data structure -- dictionary.\n",
        "\n",
        "The exercises we demonstrate how to manipulate data with Python. A very necessary skill."
      ]
    },
    {
      "cell_type": "code",
      "metadata": {
        "id": "ATcoWUHcMjyI"
      },
      "source": [
        ""
      ],
      "execution_count": null,
      "outputs": []
    }
  ]
}